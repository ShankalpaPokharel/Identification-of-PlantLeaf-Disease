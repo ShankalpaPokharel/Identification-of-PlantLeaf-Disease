{
 "cells": [
  {
   "cell_type": "code",
   "execution_count": 1,
   "metadata": {
    "colab": {
     "base_uri": "https://localhost:8080/"
    },
    "id": "aQsYYINFyOWh",
    "outputId": "cf553e3e-c5f8-44d0-b50b-bd982afdb46e"
   },
   "outputs": [],
   "source": [
    "import numpy as np\n",
    "import pandas as pd\n",
    "import matplotlib.pyplot as plt\n",
    "import os\n",
    "\n",
    "import keras"
   ]
  },
  {
   "cell_type": "code",
   "execution_count": 2,
   "metadata": {
    "id": "5MwLqrqbyOwy"
   },
   "outputs": [],
   "source": [
    "import tensorflow as tf\n",
    "from tensorflow.keras.preprocessing.image import ImageDataGenerator\n",
    "from tensorflow.keras import layers\n",
    "from tensorflow.keras.callbacks import EarlyStopping\n"
   ]
  },
  {
   "cell_type": "code",
   "execution_count": 3,
   "metadata": {
    "colab": {
     "base_uri": "https://localhost:8080/"
    },
    "id": "nvw6v9bzyPQ1",
    "outputId": "dc5c0199-3538-4dc7-a577-2c59f9e2e29b"
   },
   "outputs": [
    {
     "name": "stdout",
     "output_type": "stream",
     "text": [
      "Found 70295 images belonging to 38 classes.\n",
      "Found 17572 images belonging to 38 classes.\n"
     ]
    }
   ],
   "source": [
    "# Set up data generators with data augmentation\n",
    "train_datagen = ImageDataGenerator(\n",
    "    zoom_range=0.5,              # Randomly zoom in/out on the image\n",
    "    shear_range=0.3,             # Randomly apply shearing transformation\n",
    "    rescale=1/255,               # Rescale pixel values to [0, 1]\n",
    "    horizontal_flip=True,        # Randomly flip the image horizontally\n",
    "    vertical_flip=True,          # Randomly flip the image vertically\n",
    "    rotation_range=90,           # Randomly rotate the image between -90 and 90 degrees\n",
    "    brightness_range=[0.2, 1.0], # Randomly adjust the brightness of the image\n",
    ")\n",
    "\n",
    "val_datagen = ImageDataGenerator(rescale=1/255)\n",
    "\n",
    "# Create a generator for training data with augmentation\n",
    "train_generator = train_datagen.flow_from_directory(\n",
    "    directory='Dataset/train',\n",
    "    target_size=(256, 256),\n",
    "    batch_size=32, \n",
    "    class_mode='categorical'\n",
    ")\n",
    "\n",
    "# Create a generator for validation data without augmentation\n",
    "val_generator = val_datagen.flow_from_directory(\n",
    "    directory='Dataset/valid',\n",
    "    target_size=(256, 256),\n",
    "    batch_size=32,\n",
    "    class_mode='categorical'\n",
    ")\n",
    "\n"
   ]
  },
  {
   "cell_type": "code",
   "execution_count": 4,
   "metadata": {
    "id": "TNRpvEzCyPhw"
   },
   "outputs": [],
   "source": [
    "t_img, label = train_generator.next()"
   ]
  },
  {
   "cell_type": "code",
   "execution_count": 5,
   "metadata": {
    "colab": {
     "base_uri": "https://localhost:8080/"
    },
    "id": "oFk8yY44ytMt",
    "outputId": "146a8c92-35a3-4174-f5e1-ef664b1dc9fb"
   },
   "outputs": [
    {
     "data": {
      "text/plain": [
       "(32, 256, 256, 3)"
      ]
     },
     "execution_count": 5,
     "metadata": {},
     "output_type": "execute_result"
    }
   ],
   "source": [
    "t_img.shape"
   ]
  },
  {
   "cell_type": "code",
   "execution_count": 6,
   "metadata": {
    "colab": {
     "base_uri": "https://localhost:8080/"
    },
    "id": "zL6ks-oLQV5Q",
    "outputId": "fa37198f-9ef2-409b-fe1f-ea8d475d2c2b"
   },
   "outputs": [
    {
     "data": {
      "text/plain": [
       "['Apple___Apple_scab',\n",
       " 'Apple___Black_rot',\n",
       " 'Apple___Cedar_apple_rust',\n",
       " 'Apple___healthy',\n",
       " 'Blueberry___healthy',\n",
       " 'Cherry_(including_sour)___Powdery_mildew',\n",
       " 'Cherry_(including_sour)___healthy',\n",
       " 'Corn_(maize)___Cercospora_leaf_spot Gray_leaf_spot',\n",
       " 'Corn_(maize)___Common_rust_',\n",
       " 'Corn_(maize)___Northern_Leaf_Blight',\n",
       " 'Corn_(maize)___healthy',\n",
       " 'Grape___Black_rot',\n",
       " 'Grape___Esca_(Black_Measles)',\n",
       " 'Grape___Leaf_blight_(Isariopsis_Leaf_Spot)',\n",
       " 'Grape___healthy',\n",
       " 'Orange___Haunglongbing_(Citrus_greening)',\n",
       " 'Peach___Bacterial_spot',\n",
       " 'Peach___healthy',\n",
       " 'Pepper,_bell___Bacterial_spot',\n",
       " 'Pepper,_bell___healthy',\n",
       " 'Potato___Early_blight',\n",
       " 'Potato___Late_blight',\n",
       " 'Potato___healthy',\n",
       " 'Raspberry___healthy',\n",
       " 'Soybean___healthy',\n",
       " 'Squash___Powdery_mildew',\n",
       " 'Strawberry___Leaf_scorch',\n",
       " 'Strawberry___healthy',\n",
       " 'Tomato___Bacterial_spot',\n",
       " 'Tomato___Early_blight',\n",
       " 'Tomato___Late_blight',\n",
       " 'Tomato___Leaf_Mold',\n",
       " 'Tomato___Septoria_leaf_spot',\n",
       " 'Tomato___Spider_mites Two-spotted_spider_mite',\n",
       " 'Tomato___Target_Spot',\n",
       " 'Tomato___Tomato_Yellow_Leaf_Curl_Virus',\n",
       " 'Tomato___Tomato_mosaic_virus',\n",
       " 'Tomato___healthy']"
      ]
     },
     "execution_count": 6,
     "metadata": {},
     "output_type": "execute_result"
    }
   ],
   "source": [
    "class_names = list(train_generator.class_indices.keys())\n",
    "class_names"
   ]
  },
  {
   "cell_type": "code",
   "execution_count": null,
   "metadata": {
    "colab": {
     "base_uri": "https://localhost:8080/",
     "height": 829
    },
    "id": "QOC3KLtbY0-p",
    "outputId": "292561ae-db27-42b6-e7c0-c8483cab329b"
   },
   "outputs": [],
   "source": [
    "import matplotlib.pyplot as plt\n",
    "\n",
    "plt.figure(figsize=(10, 10))\n",
    "images, labels = next(train_generator)\n",
    "\n",
    "for i in range(12):\n",
    "    ax = plt.subplot(4, 3, i+1)\n",
    "    plt.imshow(images[i])\n",
    "    plt.title(class_names[labels[i].argmax()])\n",
    "    plt.axis(\"off\")\n"
   ]
  },
  {
   "cell_type": "code",
   "execution_count": 8,
   "metadata": {
    "id": "dhFM-hJ7yx6w"
   },
   "outputs": [
    {
     "name": "stdout",
     "output_type": "stream",
     "text": [
      "Metal device set to: Apple M1\n"
     ]
    }
   ],
   "source": [
    "# Define the model architecture\n",
    "model = tf.keras.Sequential([\n",
    "    layers.Conv2D(32, (3, 3), activation='relu', input_shape=(256, 256, 3)),\n",
    "    layers.MaxPooling2D((2, 2)),\n",
    "    \n",
    "    layers.Conv2D(64, (3, 3), activation='relu'),\n",
    "    layers.MaxPooling2D((2, 2)),\n",
    "    \n",
    "    layers.Conv2D(128, (3, 3), activation='relu'),\n",
    "    layers.MaxPooling2D((2, 2)),\n",
    "    \n",
    "    layers.Conv2D(256, (3, 3), activation='relu'),\n",
    "    layers.MaxPooling2D((2, 2)),\n",
    "    \n",
    "    layers.Flatten(),\n",
    "    \n",
    "    layers.Dense(512, activation='relu'),\n",
    "    layers.Dropout(0.5),\n",
    "    \n",
    "    layers.Dense(38, activation='softmax')\n",
    "])"
   ]
  },
  {
   "cell_type": "code",
   "execution_count": 9,
   "metadata": {
    "id": "C2wiLR9fy4U5"
   },
   "outputs": [],
   "source": [
    "# Compile the model\n",
    "model.compile(\n",
    "    optimizer='adam',\n",
    "    loss='categorical_crossentropy',\n",
    "    metrics=['accuracy']\n",
    ")"
   ]
  },
  {
   "cell_type": "code",
   "execution_count": 10,
   "metadata": {
    "colab": {
     "base_uri": "https://localhost:8080/"
    },
    "id": "icyvmqEHzH_g",
    "outputId": "4a7abf7f-a0b4-42d8-e911-00e16cbb762f"
   },
   "outputs": [
    {
     "name": "stdout",
     "output_type": "stream",
     "text": [
      "Model: \"sequential\"\n",
      "_________________________________________________________________\n",
      " Layer (type)                Output Shape              Param #   \n",
      "=================================================================\n",
      " conv2d (Conv2D)             (None, 254, 254, 32)      896       \n",
      "                                                                 \n",
      " max_pooling2d (MaxPooling2D  (None, 127, 127, 32)     0         \n",
      " )                                                               \n",
      "                                                                 \n",
      " conv2d_1 (Conv2D)           (None, 125, 125, 64)      18496     \n",
      "                                                                 \n",
      " max_pooling2d_1 (MaxPooling  (None, 62, 62, 64)       0         \n",
      " 2D)                                                             \n",
      "                                                                 \n",
      " conv2d_2 (Conv2D)           (None, 60, 60, 128)       73856     \n",
      "                                                                 \n",
      " max_pooling2d_2 (MaxPooling  (None, 30, 30, 128)      0         \n",
      " 2D)                                                             \n",
      "                                                                 \n",
      " conv2d_3 (Conv2D)           (None, 28, 28, 256)       295168    \n",
      "                                                                 \n",
      " max_pooling2d_3 (MaxPooling  (None, 14, 14, 256)      0         \n",
      " 2D)                                                             \n",
      "                                                                 \n",
      " flatten (Flatten)           (None, 50176)             0         \n",
      "                                                                 \n",
      " dense (Dense)               (None, 512)               25690624  \n",
      "                                                                 \n",
      " dropout (Dropout)           (None, 512)               0         \n",
      "                                                                 \n",
      " dense_1 (Dense)             (None, 38)                19494     \n",
      "                                                                 \n",
      "=================================================================\n",
      "Total params: 26,098,534\n",
      "Trainable params: 26,098,534\n",
      "Non-trainable params: 0\n",
      "_________________________________________________________________\n"
     ]
    }
   ],
   "source": [
    "model.summary()"
   ]
  },
  {
   "cell_type": "code",
   "execution_count": 11,
   "metadata": {},
   "outputs": [
    {
     "name": "stdout",
     "output_type": "stream",
     "text": [
      "Epoch 1/40\n"
     ]
    },
    {
     "name": "stderr",
     "output_type": "stream",
     "text": [
      "2023-04-22 08:53:12.037942: W tensorflow/tsl/platform/profile_utils/cpu_utils.cc:128] Failed to get CPU frequency: 0 Hz\n"
     ]
    },
    {
     "name": "stdout",
     "output_type": "stream",
     "text": [
      "2197/2197 [==============================] - 786s 358ms/step - loss: 1.8716 - accuracy: 0.4507 - val_loss: 0.9362 - val_accuracy: 0.7095\n",
      "Epoch 2/40\n",
      "2197/2197 [==============================] - 842s 383ms/step - loss: 0.8128 - accuracy: 0.7450 - val_loss: 0.5604 - val_accuracy: 0.8202\n",
      "Epoch 3/40\n",
      "2197/2197 [==============================] - 802s 365ms/step - loss: 0.5964 - accuracy: 0.8110 - val_loss: 0.3796 - val_accuracy: 0.8818\n",
      "Epoch 4/40\n",
      "2197/2197 [==============================] - 798s 363ms/step - loss: 0.4987 - accuracy: 0.8436 - val_loss: 0.3743 - val_accuracy: 0.8860\n",
      "Epoch 5/40\n",
      "2197/2197 [==============================] - 822s 374ms/step - loss: 0.4405 - accuracy: 0.8609 - val_loss: 0.3389 - val_accuracy: 0.8958\n",
      "Epoch 6/40\n",
      "2197/2197 [==============================] - 811s 369ms/step - loss: 0.3939 - accuracy: 0.8745 - val_loss: 0.3062 - val_accuracy: 0.9062\n",
      "Epoch 7/40\n",
      "2197/2197 [==============================] - 818s 372ms/step - loss: 0.3720 - accuracy: 0.8817 - val_loss: 0.4674 - val_accuracy: 0.8654\n",
      "Epoch 8/40\n",
      "2197/2197 [==============================] - 833s 379ms/step - loss: 0.3449 - accuracy: 0.8910 - val_loss: 0.2446 - val_accuracy: 0.9274\n",
      "Epoch 9/40\n",
      "2197/2197 [==============================] - 807s 367ms/step - loss: 0.3306 - accuracy: 0.8957 - val_loss: 0.2450 - val_accuracy: 0.9208\n",
      "Epoch 10/40\n",
      "2197/2197 [==============================] - 795s 362ms/step - loss: 0.3201 - accuracy: 0.9017 - val_loss: 0.2292 - val_accuracy: 0.9324\n",
      "Epoch 11/40\n",
      "2197/2197 [==============================] - 799s 364ms/step - loss: 0.2991 - accuracy: 0.9065 - val_loss: 0.2582 - val_accuracy: 0.9261\n",
      "Epoch 12/40\n",
      "2197/2197 [==============================] - 793s 361ms/step - loss: 0.2981 - accuracy: 0.9070 - val_loss: 0.2035 - val_accuracy: 0.9362\n",
      "Epoch 13/40\n",
      "2197/2197 [==============================] - 803s 365ms/step - loss: 0.2810 - accuracy: 0.9136 - val_loss: 0.2948 - val_accuracy: 0.9116\n",
      "Epoch 14/40\n",
      "2197/2197 [==============================] - 792s 360ms/step - loss: 0.2845 - accuracy: 0.9116 - val_loss: 0.2038 - val_accuracy: 0.9377\n",
      "Epoch 15/40\n",
      "2197/2197 [==============================] - 775s 353ms/step - loss: 0.2737 - accuracy: 0.9164 - val_loss: 0.1864 - val_accuracy: 0.9408\n",
      "Epoch 16/40\n",
      "2197/2197 [==============================] - 783s 356ms/step - loss: 0.2660 - accuracy: 0.9182 - val_loss: 0.2185 - val_accuracy: 0.9328\n",
      "Epoch 17/40\n",
      "2197/2197 [==============================] - 796s 362ms/step - loss: 0.2622 - accuracy: 0.9187 - val_loss: 0.1384 - val_accuracy: 0.9565\n",
      "Epoch 18/40\n",
      "2197/2197 [==============================] - 948s 431ms/step - loss: 0.2534 - accuracy: 0.9212 - val_loss: 0.1462 - val_accuracy: 0.9545\n",
      "Epoch 19/40\n",
      "2197/2197 [==============================] - 910s 414ms/step - loss: 0.2522 - accuracy: 0.9234 - val_loss: 0.1785 - val_accuracy: 0.9449\n",
      "Epoch 20/40\n",
      "2197/2197 [==============================] - 915s 417ms/step - loss: 0.2502 - accuracy: 0.9229 - val_loss: 0.2465 - val_accuracy: 0.9303\n",
      "Epoch 21/40\n",
      "2197/2197 [==============================] - 961s 437ms/step - loss: 0.2517 - accuracy: 0.9242 - val_loss: 0.2139 - val_accuracy: 0.9364\n",
      "Epoch 22/40\n",
      "2197/2197 [==============================] - 999s 455ms/step - loss: 0.2423 - accuracy: 0.9263 - val_loss: 0.2282 - val_accuracy: 0.9368\n"
     ]
    }
   ],
   "source": [
    "from tensorflow.keras.callbacks import EarlyStopping, ModelCheckpoint\n",
    "\n",
    "# Define the callbacks\n",
    "early_stop = EarlyStopping(monitor='val_loss', patience=5)\n",
    "\n",
    "model_checkpoint = ModelCheckpoint('best_model.h5',\n",
    "                                   save_best_only=True,\n",
    "                                   save_weights_only=False)\n",
    "\n",
    "\n",
    "\n",
    "# Compile the model\n",
    "model.compile(loss='categorical_crossentropy',\n",
    "              optimizer='adam',\n",
    "              metrics=['accuracy'])\n",
    "\n",
    "\n",
    "\n",
    "# Train the model with the callbacks\n",
    "history = model.fit(train_generator,\n",
    "                    validation_data=val_generator,\n",
    "                    epochs=40,\n",
    "                    callbacks=[early_stop, model_checkpoint],\n",
    "                   shuffle=True)\n"
   ]
  },
  {
   "cell_type": "code",
   "execution_count": 12,
   "metadata": {},
   "outputs": [],
   "source": [
    "# # Define early stopping to prevent overfitting\n",
    "# early_stop = EarlyStopping(monitor='val_loss', patience=)\n",
    "\n",
    "# # Train the model\n",
    "# history = model.fit(\n",
    "#     train_generator,\n",
    "#     validation_data=val_generator,\n",
    "#     epochs=40,\n",
    "#     callbacks=[early_stop]\n",
    "# )\n"
   ]
  },
  {
   "cell_type": "code",
   "execution_count": 13,
   "metadata": {
    "id": "M-vMl_RBzu9S"
   },
   "outputs": [],
   "source": [
    "model.save('my_model_v5.h5')"
   ]
  },
  {
   "cell_type": "code",
   "execution_count": 14,
   "metadata": {
    "id": "vuxJcdTWdHkp"
   },
   "outputs": [
    {
     "name": "stderr",
     "output_type": "stream",
     "text": [
      "/var/folders/f5/xb4v70_j0lj5t85gdv_td55c0000gn/T/ipykernel_8787/2485115042.py:1: UserWarning: `Model.evaluate_generator` is deprecated and will be removed in a future version. Please use `Model.evaluate`, which supports generators.\n",
      "  acc = model.evaluate_generator(val_generator)[1]\n"
     ]
    },
    {
     "name": "stdout",
     "output_type": "stream",
     "text": [
      "The accuracy of your model is 93.67744326591492 %\n"
     ]
    }
   ],
   "source": [
    "acc = model.evaluate_generator(val_generator)[1]\n",
    "\n",
    "print(f\"The accuracy of your model is {acc *100} %\")"
   ]
  },
  {
   "cell_type": "code",
   "execution_count": 15,
   "metadata": {
    "id": "qnCnXOQAdNSU"
   },
   "outputs": [],
   "source": [
    "ref = dict(zip(list(train_generator.class_indices.values()) , list(train_generator.class_indices.keys())))"
   ]
  },
  {
   "cell_type": "code",
   "execution_count": 16,
   "metadata": {
    "id": "TivDbgDRjrkW"
   },
   "outputs": [],
   "source": [
    "import pickle\n",
    "with open('ref.pickle', 'wb') as handle:\n",
    "    pickle.dump(ref, handle, protocol=pickle.HIGHEST_PROTOCOL)"
   ]
  },
  {
   "cell_type": "code",
   "execution_count": 26,
   "metadata": {},
   "outputs": [],
   "source": [
    "from keras.models import load_model\n",
    "model = load_model(\"/Users/shankalpapokharel/AI Projects/gpu_ipd/best_model.h5\")"
   ]
  },
  {
   "cell_type": "code",
   "execution_count": 30,
   "metadata": {
    "id": "nus631wHdTF_"
   },
   "outputs": [],
   "source": [
    "from tensorflow.keras.preprocessing.image import load_img, img_to_array\n",
    "\n",
    "def prediction(path):\n",
    "    \n",
    "    # Load the image and resize it to (256, 256)\n",
    "    img = load_img(path, target_size = (256, 256))\n",
    "    \n",
    "    # Convert the image to a NumPy array\n",
    "    x = img_to_array(img)\n",
    "    \n",
    "    # Add an extra dimension to the array to create a batch of size 1\n",
    "    x = np.expand_dims(x, axis=0)\n",
    "\n",
    "    # Scale the pixel values to the range [0, 1]\n",
    "    x = x/255.0\n",
    "    \n",
    "    # Make a prediction using the trained model\n",
    "    predictions = model.predict(x)\n",
    "\n",
    "    # Get the index of the predicted class\n",
    "    pred = np.argmax(predictions)\n",
    "\n",
    "    # Look up the predicted class name using the ref dictionary\n",
    "    predicted_class = ref[pred]\n",
    "\n",
    "    # Calculate the confidence level for the prediction\n",
    "    confidence = round(100 * np.max(predictions[0]), 2)\n",
    "\n",
    "    # Return the predicted class name and confidence level\n",
    "    return predicted_class, confidence"
   ]
  },
  {
   "cell_type": "code",
   "execution_count": 31,
   "metadata": {
    "id": "w3UeiFCzdXPl"
   },
   "outputs": [],
   "source": [
    "path = \"/Users/shankalpapokharel/AI Projects/gpu_ipd/Dataset/test/AppleCedarRust2.JPG\""
   ]
  },
  {
   "cell_type": "code",
   "execution_count": 32,
   "metadata": {
    "id": "R_3wHxfFdY0I"
   },
   "outputs": [
    {
     "name": "stdout",
     "output_type": "stream",
     "text": [
      "1/1 [==============================] - 1s 778ms/step\n"
     ]
    },
    {
     "data": {
      "text/plain": [
       "('Apple___Cedar_apple_rust', 99.67)"
      ]
     },
     "execution_count": 32,
     "metadata": {},
     "output_type": "execute_result"
    }
   ],
   "source": [
    "prediction(path)"
   ]
  },
  {
   "cell_type": "code",
   "execution_count": 33,
   "metadata": {
    "id": "wgrtHnlB1DXZ"
   },
   "outputs": [
    {
     "data": {
      "image/png": "[encoded data removed]",
      "text/plain": [
       "<Figure size 640x480 with 1 Axes>"
      ]
     },
     "metadata": {},
     "output_type": "display_data"
    }
   ],
   "source": [
    "import matplotlib.pyplot as plt\n",
    "\n",
    "# Plot training & validation accuracy values\n",
    "plt.plot(history.history['accuracy'])\n",
    "plt.plot(history.history['val_accuracy'])\n",
    "plt.title('Model accuracy')\n",
    "plt.ylabel('Accuracy')\n",
    "plt.xlabel('Epoch')\n",
    "plt.legend(['Train', 'Validation'], loc='upper left')\n",
    "plt.show()"
   ]
  },
  {
   "cell_type": "code",
   "execution_count": 34,
   "metadata": {
    "id": "5GF_vBpr1Dpm"
   },
   "outputs": [
    {
     "data": {
      "image/png": "[encoded data removed]",
      "text/plain": [
       "<Figure size 640x480 with 1 Axes>"
      ]
     },
     "metadata": {},
     "output_type": "display_data"
    }
   ],
   "source": [
    "# Plot training & validation loss values\n",
    "plt.plot(history.history['loss'])\n",
    "plt.plot(history.history['val_loss'])\n",
    "plt.title('Model loss')\n",
    "plt.ylabel('Loss')\n",
    "plt.xlabel('Epoch')\n",
    "plt.legend(['Train', 'Validation'], loc='upper left')\n",
    "plt.show()"
   ]
  },
  {
   "cell_type": "code",
   "execution_count": 35,
   "metadata": {
    "id": "HqxumT3jgueQ"
   },
   "outputs": [
    {
     "data": {
      "text/plain": [
       "{'Apple___Apple_scab': 0,\n",
       " 'Apple___Black_rot': 1,\n",
       " 'Apple___Cedar_apple_rust': 2,\n",
       " 'Apple___healthy': 3,\n",
       " 'Blueberry___healthy': 4,\n",
       " 'Cherry_(including_sour)___Powdery_mildew': 5,\n",
       " 'Cherry_(including_sour)___healthy': 6,\n",
       " 'Corn_(maize)___Cercospora_leaf_spot Gray_leaf_spot': 7,\n",
       " 'Corn_(maize)___Common_rust_': 8,\n",
       " 'Corn_(maize)___Northern_Leaf_Blight': 9,\n",
       " 'Corn_(maize)___healthy': 10,\n",
       " 'Grape___Black_rot': 11,\n",
       " 'Grape___Esca_(Black_Measles)': 12,\n",
       " 'Grape___Leaf_blight_(Isariopsis_Leaf_Spot)': 13,\n",
       " 'Grape___healthy': 14,\n",
       " 'Orange___Haunglongbing_(Citrus_greening)': 15,\n",
       " 'Peach___Bacterial_spot': 16,\n",
       " 'Peach___healthy': 17,\n",
       " 'Pepper,_bell___Bacterial_spot': 18,\n",
       " 'Pepper,_bell___healthy': 19,\n",
       " 'Potato___Early_blight': 20,\n",
       " 'Potato___Late_blight': 21,\n",
       " 'Potato___healthy': 22,\n",
       " 'Raspberry___healthy': 23,\n",
       " 'Soybean___healthy': 24,\n",
       " 'Squash___Powdery_mildew': 25,\n",
       " 'Strawberry___Leaf_scorch': 26,\n",
       " 'Strawberry___healthy': 27,\n",
       " 'Tomato___Bacterial_spot': 28,\n",
       " 'Tomato___Early_blight': 29,\n",
       " 'Tomato___Late_blight': 30,\n",
       " 'Tomato___Leaf_Mold': 31,\n",
       " 'Tomato___Septoria_leaf_spot': 32,\n",
       " 'Tomato___Spider_mites Two-spotted_spider_mite': 33,\n",
       " 'Tomato___Target_Spot': 34,\n",
       " 'Tomato___Tomato_Yellow_Leaf_Curl_Virus': 35,\n",
       " 'Tomato___Tomato_mosaic_virus': 36,\n",
       " 'Tomato___healthy': 37}"
      ]
     },
     "execution_count": 35,
     "metadata": {},
     "output_type": "execute_result"
    }
   ],
   "source": [
    "train_generator.class_indices"
   ]
  },
  {
   "cell_type": "code",
   "execution_count": 37,
   "metadata": {
    "id": "VokwLCjmg6Da"
   },
   "outputs": [
    {
     "data": {
      "text/plain": [
       "dict_keys(['Apple___Apple_scab', 'Apple___Black_rot', 'Apple___Cedar_apple_rust', 'Apple___healthy', 'Blueberry___healthy', 'Cherry_(including_sour)___Powdery_mildew', 'Cherry_(including_sour)___healthy', 'Corn_(maize)___Cercospora_leaf_spot Gray_leaf_spot', 'Corn_(maize)___Common_rust_', 'Corn_(maize)___Northern_Leaf_Blight', 'Corn_(maize)___healthy', 'Grape___Black_rot', 'Grape___Esca_(Black_Measles)', 'Grape___Leaf_blight_(Isariopsis_Leaf_Spot)', 'Grape___healthy', 'Orange___Haunglongbing_(Citrus_greening)', 'Peach___Bacterial_spot', 'Peach___healthy', 'Pepper,_bell___Bacterial_spot', 'Pepper,_bell___healthy', 'Potato___Early_blight', 'Potato___Late_blight', 'Potato___healthy', 'Raspberry___healthy', 'Soybean___healthy', 'Squash___Powdery_mildew', 'Strawberry___Leaf_scorch', 'Strawberry___healthy', 'Tomato___Bacterial_spot', 'Tomato___Early_blight', 'Tomato___Late_blight', 'Tomato___Leaf_Mold', 'Tomato___Septoria_leaf_spot', 'Tomato___Spider_mites Two-spotted_spider_mite', 'Tomato___Target_Spot', 'Tomato___Tomato_Yellow_Leaf_Curl_Virus', 'Tomato___Tomato_mosaic_virus', 'Tomato___healthy'])"
      ]
     },
     "execution_count": 37,
     "metadata": {},
     "output_type": "execute_result"
    }
   ],
   "source": [
    "train_generator.class_indices.keys()"
   ]
  },
  {
   "cell_type": "code",
   "execution_count": 38,
   "metadata": {
    "id": "yRcdqH2fg8w2"
   },
   "outputs": [
    {
     "data": {
      "text/plain": [
       "['Apple___Apple_scab',\n",
       " 'Apple___Black_rot',\n",
       " 'Apple___Cedar_apple_rust',\n",
       " 'Apple___healthy',\n",
       " 'Blueberry___healthy',\n",
       " 'Cherry_(including_sour)___Powdery_mildew',\n",
       " 'Cherry_(including_sour)___healthy',\n",
       " 'Corn_(maize)___Cercospora_leaf_spot Gray_leaf_spot',\n",
       " 'Corn_(maize)___Common_rust_',\n",
       " 'Corn_(maize)___Northern_Leaf_Blight',\n",
       " 'Corn_(maize)___healthy',\n",
       " 'Grape___Black_rot',\n",
       " 'Grape___Esca_(Black_Measles)',\n",
       " 'Grape___Leaf_blight_(Isariopsis_Leaf_Spot)',\n",
       " 'Grape___healthy',\n",
       " 'Orange___Haunglongbing_(Citrus_greening)',\n",
       " 'Peach___Bacterial_spot',\n",
       " 'Peach___healthy',\n",
       " 'Pepper,_bell___Bacterial_spot',\n",
       " 'Pepper,_bell___healthy',\n",
       " 'Potato___Early_blight',\n",
       " 'Potato___Late_blight',\n",
       " 'Potato___healthy',\n",
       " 'Raspberry___healthy',\n",
       " 'Soybean___healthy',\n",
       " 'Squash___Powdery_mildew',\n",
       " 'Strawberry___Leaf_scorch',\n",
       " 'Strawberry___healthy',\n",
       " 'Tomato___Bacterial_spot',\n",
       " 'Tomato___Early_blight',\n",
       " 'Tomato___Late_blight',\n",
       " 'Tomato___Leaf_Mold',\n",
       " 'Tomato___Septoria_leaf_spot',\n",
       " 'Tomato___Spider_mites Two-spotted_spider_mite',\n",
       " 'Tomato___Target_Spot',\n",
       " 'Tomato___Tomato_Yellow_Leaf_Curl_Virus',\n",
       " 'Tomato___Tomato_mosaic_virus',\n",
       " 'Tomato___healthy']"
      ]
     },
     "execution_count": 38,
     "metadata": {},
     "output_type": "execute_result"
    }
   ],
   "source": [
    "list(train_generator.class_indices.keys())"
   ]
  },
  {
   "cell_type": "code",
   "execution_count": 39,
   "metadata": {},
   "outputs": [],
   "source": [
    "r = dict(zip(list(train_generator.class_indices.values()) , list(train_generator.class_indices.keys())))"
   ]
  },
  {
   "cell_type": "code",
   "execution_count": 40,
   "metadata": {},
   "outputs": [
    {
     "name": "stdout",
     "output_type": "stream",
     "text": [
      "{0: 'Apple___Apple_scab', 1: 'Apple___Black_rot', 2: 'Apple___Cedar_apple_rust', 3: 'Apple___healthy', 4: 'Blueberry___healthy', 5: 'Cherry_(including_sour)___Powdery_mildew', 6: 'Cherry_(including_sour)___healthy', 7: 'Corn_(maize)___Cercospora_leaf_spot Gray_leaf_spot', 8: 'Corn_(maize)___Common_rust_', 9: 'Corn_(maize)___Northern_Leaf_Blight', 10: 'Corn_(maize)___healthy', 11: 'Grape___Black_rot', 12: 'Grape___Esca_(Black_Measles)', 13: 'Grape___Leaf_blight_(Isariopsis_Leaf_Spot)', 14: 'Grape___healthy', 15: 'Orange___Haunglongbing_(Citrus_greening)', 16: 'Peach___Bacterial_spot', 17: 'Peach___healthy', 18: 'Pepper,_bell___Bacterial_spot', 19: 'Pepper,_bell___healthy', 20: 'Potato___Early_blight', 21: 'Potato___Late_blight', 22: 'Potato___healthy', 23: 'Raspberry___healthy', 24: 'Soybean___healthy', 25: 'Squash___Powdery_mildew', 26: 'Strawberry___Leaf_scorch', 27: 'Strawberry___healthy', 28: 'Tomato___Bacterial_spot', 29: 'Tomato___Early_blight', 30: 'Tomato___Late_blight', 31: 'Tomato___Leaf_Mold', 32: 'Tomato___Septoria_leaf_spot', 33: 'Tomato___Spider_mites Two-spotted_spider_mite', 34: 'Tomato___Target_Spot', 35: 'Tomato___Tomato_Yellow_Leaf_Curl_Virus', 36: 'Tomato___Tomato_mosaic_virus', 37: 'Tomato___healthy'}\n"
     ]
    }
   ],
   "source": [
    "print(r)"
   ]
  },
  {
   "cell_type": "code",
   "execution_count": 44,
   "metadata": {},
   "outputs": [
    {
     "name": "stdout",
     "output_type": "stream",
     "text": [
      "1/1 [==============================] - 0s 20ms/step\n",
      "File: AppleScab3.JPG, Predicted class: Potato___Early_blight, Confidence: 95.59%\n",
      "1/1 [==============================] - 0s 10ms/step\n",
      "File: TomatoEarlyBlight2.JPG, Predicted class: Tomato___Early_blight, Confidence: 53.99%\n",
      "1/1 [==============================] - 0s 10ms/step\n",
      "File: TomatoEarlyBlight3.JPG, Predicted class: Tomato___Early_blight, Confidence: 99.03%\n",
      "1/1 [==============================] - 0s 11ms/step\n",
      "File: PotatoHealthy1.JPG, Predicted class: Potato___healthy, Confidence: 100.0%\n",
      "1/1 [==============================] - 0s 13ms/step\n",
      "File: AppleScab2.JPG, Predicted class: Apple___Apple_scab, Confidence: 100.0%\n",
      "1/1 [==============================] - 0s 13ms/step\n",
      "File: TomatoEarlyBlight1.JPG, Predicted class: Tomato___Early_blight, Confidence: 95.98%\n",
      "1/1 [==============================] - 0s 14ms/step\n",
      "File: PotatoHealthy2.JPG, Predicted class: Potato___healthy, Confidence: 99.99%\n",
      "1/1 [==============================] - 0s 13ms/step\n",
      "File: AppleScab1.JPG, Predicted class: Cherry_(including_sour)___Powdery_mildew, Confidence: 77.53%\n",
      "1/1 [==============================] - 0s 13ms/step\n",
      "File: TomatoEarlyBlight4.JPG, Predicted class: Tomato___Early_blight, Confidence: 100.0%\n",
      "Couldn't read the file\n",
      "1/1 [==============================] - 0s 15ms/step\n",
      "File: TomatoEarlyBlight5.JPG, Predicted class: Tomato___Early_blight, Confidence: 97.38%\n",
      "1/1 [==============================] - 0s 12ms/step\n",
      "File: TomatoEarlyBlight6.JPG, Predicted class: Tomato___Early_blight, Confidence: 99.55%\n",
      "1/1 [==============================] - 0s 12ms/step\n",
      "File: PotatoEarlyBlight4.JPG, Predicted class: Potato___Early_blight, Confidence: 100.0%\n",
      "1/1 [==============================] - 0s 13ms/step\n",
      "File: PotatoEarlyBlight5.JPG, Predicted class: Potato___Early_blight, Confidence: 100.0%\n",
      "1/1 [==============================] - 0s 14ms/step\n",
      "File: PotatoEarlyBlight2.JPG, Predicted class: Potato___Early_blight, Confidence: 100.0%\n",
      "1/1 [==============================] - 0s 13ms/step\n",
      "File: PotatoEarlyBlight3.JPG, Predicted class: Apple___healthy, Confidence: 98.33%\n",
      "1/1 [==============================] - 0s 13ms/step\n",
      "File: PotatoEarlyBlight1.JPG, Predicted class: Potato___Early_blight, Confidence: 100.0%\n",
      "1/1 [==============================] - 0s 14ms/step\n",
      "File: TomatoYellowCurlVirus2.JPG, Predicted class: Tomato___Tomato_Yellow_Leaf_Curl_Virus, Confidence: 100.0%\n",
      "1/1 [==============================] - 0s 12ms/step\n",
      "File: TomatoYellowCurlVirus3.JPG, Predicted class: Tomato___Tomato_Yellow_Leaf_Curl_Virus, Confidence: 97.19%\n",
      "1/1 [==============================] - 0s 14ms/step\n",
      "File: TomatoYellowCurlVirus1.JPG, Predicted class: Tomato___Tomato_Yellow_Leaf_Curl_Virus, Confidence: 100.0%\n",
      "1/1 [==============================] - 0s 13ms/step\n",
      "File: TomatoHealthy4.JPG, Predicted class: Tomato___healthy, Confidence: 100.0%\n",
      "1/1 [==============================] - 0s 11ms/step\n",
      "File: TomatoYellowCurlVirus4.JPG, Predicted class: Tomato___Tomato_Yellow_Leaf_Curl_Virus, Confidence: 100.0%\n",
      "1/1 [==============================] - 0s 13ms/step\n",
      "File: TomatoHealthy1.JPG, Predicted class: Tomato___healthy, Confidence: 100.0%\n",
      "1/1 [==============================] - 0s 13ms/step\n",
      "File: TomatoYellowCurlVirus5.JPG, Predicted class: Tomato___Tomato_Yellow_Leaf_Curl_Virus, Confidence: 100.0%\n",
      "1/1 [==============================] - 0s 13ms/step\n",
      "File: TomatoHealthy3.JPG, Predicted class: Tomato___healthy, Confidence: 100.0%\n",
      "1/1 [==============================] - 0s 13ms/step\n",
      "File: TomatoHealthy2.JPG, Predicted class: Tomato___healthy, Confidence: 99.74%\n",
      "1/1 [==============================] - 0s 13ms/step\n",
      "File: TomatoYellowCurlVirus6.JPG, Predicted class: Tomato___Tomato_Yellow_Leaf_Curl_Virus, Confidence: 100.0%\n",
      "1/1 [==============================] - 0s 13ms/step\n",
      "File: AppleCedarRust2.JPG, Predicted class: Apple___Cedar_apple_rust, Confidence: 99.67%\n",
      "1/1 [==============================] - 0s 13ms/step\n",
      "File: CornCommonRust1.JPG, Predicted class: Corn_(maize)___Common_rust_, Confidence: 99.93%\n",
      "1/1 [==============================] - 0s 31ms/step\n",
      "File: AppleCedarRust3.JPG, Predicted class: Apple___Cedar_apple_rust, Confidence: 56.0%\n",
      "1/1 [==============================] - 0s 12ms/step\n",
      "File: AppleCedarRust1.JPG, Predicted class: Apple___Cedar_apple_rust, Confidence: 94.18%\n",
      "1/1 [==============================] - 0s 15ms/step\n",
      "File: CornCommonRust3.JPG, Predicted class: Corn_(maize)___Common_rust_, Confidence: 100.0%\n",
      "1/1 [==============================] - 0s 14ms/step\n",
      "File: AppleCedarRust4.JPG, Predicted class: Apple___Cedar_apple_rust, Confidence: 99.94%\n"
     ]
    }
   ],
   "source": [
    "import os\n",
    "\n",
    "test_dir = '/Users/shankalpapokharel/AI Projects/gpu_ipd/Dataset/test/'\n",
    "\n",
    "for filename in os.listdir(test_dir):\n",
    "    try:\n",
    "        path = os.path.join(test_dir, filename)\n",
    "        predicted_class, confidence = prediction(path)\n",
    "        print(f\"File: {filename}, Predicted class: {predicted_class}, Confidence: {confidence}%\")\n",
    "    except:\n",
    "        print(\"Couldn't read the file\")"
   ]
  },
  {
   "cell_type": "code",
   "execution_count": null,
   "metadata": {},
   "outputs": [],
   "source": []
  },
  {
   "cell_type": "code",
   "execution_count": null,
   "metadata": {},
   "outputs": [],
   "source": []
  },
  {
   "cell_type": "code",
   "execution_count": 62,
   "metadata": {},
   "outputs": [],
   "source": [
    "path = \"/Users/shankalpapokharel/Downloads/7.jpg\""
   ]
  },
  {
   "cell_type": "code",
   "execution_count": 63,
   "metadata": {},
   "outputs": [
    {
     "name": "stdout",
     "output_type": "stream",
     "text": [
      "1/1 [==============================] - 0s 10ms/step\n"
     ]
    },
    {
     "data": {
      "text/plain": [
       "('Tomato___Leaf_Mold', 99.89)"
      ]
     },
     "execution_count": 63,
     "metadata": {},
     "output_type": "execute_result"
    }
   ],
   "source": [
    "prediction(path)"
   ]
  },
  {
   "cell_type": "code",
   "execution_count": 66,
   "metadata": {},
   "outputs": [
    {
     "name": "stdout",
     "output_type": "stream",
     "text": [
      "Found 17572 images belonging to 38 classes.\n",
      "550/550 [==============================] - 49s 89ms/step - loss: 0.1384 - accuracy: 0.9565\n",
      "Test accuracy: 95.652174949646 %\n"
     ]
    }
   ],
   "source": [
    "test_datagen = ImageDataGenerator(rescale=1./255)\n",
    "\n",
    "test_data = test_datagen.flow_from_directory(\n",
    "        'Dataset/valid',\n",
    "        target_size=(256, 256),\n",
    "        class_mode='categorical')\n",
    "\n",
    "# evaluate the model on the test dataset\n",
    "loss, accuracy = model.evaluate(test_data)\n",
    "\n",
    "print('Test accuracy:', accuracy*100,\"%\")"
   ]
  },
  {
   "cell_type": "code",
   "execution_count": 73,
   "metadata": {},
   "outputs": [
    {
     "name": "stdout",
     "output_type": "stream",
     "text": [
      "1/1 [==============================] - 0s 20ms/step\n"
     ]
    },
    {
     "data": {
      "text/plain": [
       "('Tomato___Spider_mites Two-spotted_spider_mite', 99.94)"
      ]
     },
     "execution_count": 73,
     "metadata": {},
     "output_type": "execute_result"
    }
   ],
   "source": [
    "path = \"/Users/shankalpapokharel/Downloads/cc.jpg\"\n",
    "prediction(path)"
   ]
  }
 ],
 "metadata": {
  "accelerator": "GPU",
  "colab": {
   "provenance": []
  },
  "gpuClass": "standard",
  "kernelspec": {
   "display_name": "Python 3 (ipykernel)",
   "language": "python",
   "name": "python3"
  },
  "language_info": {
   "codemirror_mode": {
    "name": "ipython",
    "version": 3
   },
   "file_extension": ".py",
   "mimetype": "text/x-python",
   "name": "python",
   "nbconvert_exporter": "python",
   "pygments_lexer": "ipython3",
   "version": "3.9.16"
  }
 },
 "nbformat": 4,
 "nbformat_minor": 1
}
